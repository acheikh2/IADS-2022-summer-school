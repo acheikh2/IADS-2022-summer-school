{
  "nbformat": 4,
  "nbformat_minor": 0,
  "metadata": {
    "kernelspec": {
      "display_name": "Python 3",
      "language": "python",
      "name": "python3"
    },
    "language_info": {
      "codemirror_mode": {
        "name": "ipython",
        "version": 3
      },
      "file_extension": ".py",
      "mimetype": "text/x-python",
      "name": "python",
      "nbconvert_exporter": "python",
      "pygments_lexer": "ipython3",
      "version": "3.6.5"
    },
    "colab": {
      "name": "Exercise_3.ipynb",
      "provenance": [],
      "include_colab_link": true
    }
  },
  "cells": [
    {
      "cell_type": "markdown",
      "metadata": {
        "id": "view-in-github",
        "colab_type": "text"
      },
      "source": [
        "<a href=\"https://colab.research.google.com/github/acheikh2/IADS-2022-summer-school/blob/main/Exercise_3.ipynb\" target=\"_parent\"><img src=\"https://colab.research.google.com/assets/colab-badge.svg\" alt=\"Open In Colab\"/></a>"
      ]
    },
    {
      "cell_type": "markdown",
      "metadata": {
        "id": "XfN7-6YaXbbK"
      },
      "source": [
        "### Data Structures\n",
        "In simple terms, It is the the collection or group of data in a particular structure.\n",
        "\n",
        "#### Lists\n",
        "Lists are the most commonly used data structure. Think of it as a sequence of data that is enclosed in square brackets and data are separated by a comma. Each of these data can be accessed by calling it's index value.\n",
        "\n",
        "Lists are declared by just equating a variable to '[ ]' or list."
      ]
    },
    {
      "cell_type": "code",
      "metadata": {
        "id": "cM_nLhIlXbbL"
      },
      "source": [
        "a = []"
      ],
      "execution_count": 1,
      "outputs": []
    },
    {
      "cell_type": "code",
      "metadata": {
        "id": "Ei8ovijqXbbL",
        "outputId": "cd456397-2e7f-4e21-a557-e7ae5b0e0ad7",
        "colab": {
          "base_uri": "https://localhost:8080/"
        }
      },
      "source": [
        "print(type(a))"
      ],
      "execution_count": 2,
      "outputs": [
        {
          "output_type": "stream",
          "name": "stdout",
          "text": [
            "<class 'list'>\n"
          ]
        }
      ]
    },
    {
      "cell_type": "code",
      "metadata": {
        "id": "nVzzywWBXbbL"
      },
      "source": [
        "x = ['apple', 'orange', 'banana']"
      ],
      "execution_count": 3,
      "outputs": []
    },
    {
      "cell_type": "code",
      "metadata": {
        "id": "kdqvNVzgXbbM",
        "outputId": "746628cd-3174-4154-dc1f-1fb736a73139",
        "colab": {
          "base_uri": "https://localhost:8080/",
          "height": 35
        }
      },
      "source": [
        "x[1]"
      ],
      "execution_count": 11,
      "outputs": [
        {
          "output_type": "execute_result",
          "data": {
            "text/plain": [
              "'banana'"
            ],
            "application/vnd.google.colaboratory.intrinsic+json": {
              "type": "string"
            }
          },
          "metadata": {},
          "execution_count": 11
        }
      ]
    },
    {
      "cell_type": "code",
      "metadata": {
        "id": "WTyPFJULXbbM"
      },
      "source": [
        "## Indexing can also be done in reverse order. That is the last element can be accessed first.\n",
        "# Here, indexing starts from -1. Thus index value -1 will be orange and index -2 will be apple."
      ],
      "execution_count": null,
      "outputs": []
    },
    {
      "cell_type": "code",
      "metadata": {
        "id": "kU1fr9sZXbbM",
        "outputId": "d3d847ca-8570-475d-c60c-45fec2326aea",
        "colab": {
          "base_uri": "https://localhost:8080/",
          "height": 35
        }
      },
      "source": [
        "x[-2]"
      ],
      "execution_count": 12,
      "outputs": [
        {
          "output_type": "execute_result",
          "data": {
            "text/plain": [
              "'orange'"
            ],
            "application/vnd.google.colaboratory.intrinsic+json": {
              "type": "string"
            }
          },
          "metadata": {},
          "execution_count": 12
        }
      ]
    },
    {
      "cell_type": "markdown",
      "metadata": {
        "id": "6XGCCTuTXbbM"
      },
      "source": [
        "As you might have already guessed, x[0] = x[-2], x[1] = x[-1]. This concept can be extended towards lists with more many elements."
      ]
    },
    {
      "cell_type": "code",
      "metadata": {
        "id": "6DrkZPfCXbbM"
      },
      "source": [
        "y = ['carrot','potato']"
      ],
      "execution_count": 15,
      "outputs": []
    },
    {
      "cell_type": "code",
      "metadata": {
        "id": "7Z7Wgpl4XbbM",
        "outputId": "c4c78d16-db30-4afa-bb83-5f2c591e8ee6",
        "colab": {
          "base_uri": "https://localhost:8080/"
        }
      },
      "source": [
        "z  = [x,y]\n",
        "print(z)"
      ],
      "execution_count": 16,
      "outputs": [
        {
          "output_type": "stream",
          "name": "stdout",
          "text": [
            "[['apple', 'orange', 'banana'], ['carrot', 'potato']]\n"
          ]
        }
      ]
    },
    {
      "cell_type": "code",
      "metadata": {
        "id": "IwSRpnk-XbbN",
        "outputId": "6327c0fb-0f8f-4935-851b-1ebb7a01d231",
        "colab": {
          "base_uri": "https://localhost:8080/"
        }
      },
      "source": [
        "z1 = z[0]\n",
        "print(z1)"
      ],
      "execution_count": 18,
      "outputs": [
        {
          "output_type": "stream",
          "name": "stdout",
          "text": [
            "['carrot', 'potato']\n"
          ]
        }
      ]
    },
    {
      "cell_type": "code",
      "metadata": {
        "id": "HDaxh2zqXbbN",
        "outputId": "173970bb-af96-459e-b7a4-d918c95834a6",
        "colab": {
          "base_uri": "https://localhost:8080/",
          "height": 35
        }
      },
      "source": [
        "z[0][1]"
      ],
      "execution_count": 21,
      "outputs": [
        {
          "output_type": "execute_result",
          "data": {
            "text/plain": [
              "'orange'"
            ],
            "application/vnd.google.colaboratory.intrinsic+json": {
              "type": "string"
            }
          },
          "metadata": {},
          "execution_count": 21
        }
      ]
    },
    {
      "cell_type": "markdown",
      "metadata": {
        "id": "iG1tH8toXbbN"
      },
      "source": [
        "### **Slicing**\n",
        "Indexing was **only** limited to accessing a single element, Slicing on the other hand is accessing a sequence of data inside the list. In other words \"slicing\" the list.\n",
        "\n",
        "Slicing is done by defining the index values of the first element and the last element from the parent list that is required in the sliced list. It is written as parentlist[ a : b ] where a,b are the index values from the parent list. If a or b is not defined then the index value is considered to be the first value for a if a is not defined and the last value for b when b is not defined."
      ]
    },
    {
      "cell_type": "code",
      "metadata": {
        "id": "9JlE3q9QXbbN"
      },
      "source": [
        "num = [0,1,2,3,4,5,6,7,8,9]"
      ],
      "execution_count": 22,
      "outputs": []
    },
    {
      "cell_type": "code",
      "metadata": {
        "id": "PP9T9UmMXbbN",
        "outputId": "aa2a4d2e-4de2-4be9-8aac-000f0212f657",
        "colab": {
          "base_uri": "https://localhost:8080/"
        }
      },
      "source": [
        "print(num[0:4])\n",
        "print(num[4:])"
      ],
      "execution_count": 24,
      "outputs": [
        {
          "output_type": "stream",
          "name": "stdout",
          "text": [
            "[0, 1, 2, 3]\n",
            "[4, 5, 6, 7, 8, 9]\n"
          ]
        }
      ]
    },
    {
      "cell_type": "code",
      "metadata": {
        "id": "w0LLPluaXbbO",
        "outputId": "4274190d-f2d0-45e4-c838-f85bb9ac0a13",
        "colab": {
          "base_uri": "https://localhost:8080/"
        }
      },
      "source": [
        "num[:9:3]"
      ],
      "execution_count": 36,
      "outputs": [
        {
          "output_type": "execute_result",
          "data": {
            "text/plain": [
              "[0, 3, 6, 9]"
            ]
          },
          "metadata": {},
          "execution_count": 36
        }
      ]
    },
    {
      "cell_type": "code",
      "metadata": {
        "id": "F_ktCA5-XbbO",
        "outputId": "1f22b076-d7e5-4774-fbb1-285ec98f255e",
        "colab": {
          "base_uri": "https://localhost:8080/"
        }
      },
      "source": [
        "len(num)"
      ],
      "execution_count": 42,
      "outputs": [
        {
          "output_type": "execute_result",
          "data": {
            "text/plain": [
              "10"
            ]
          },
          "metadata": {},
          "execution_count": 42
        }
      ]
    },
    {
      "cell_type": "code",
      "metadata": {
        "id": "sxuEx55nXbbO",
        "outputId": "bec48b28-8817-4932-98f0-0ac769d17444",
        "colab": {
          "base_uri": "https://localhost:8080/"
        }
      },
      "source": [
        "min(num)"
      ],
      "execution_count": 30,
      "outputs": [
        {
          "output_type": "execute_result",
          "data": {
            "text/plain": [
              "0"
            ]
          },
          "metadata": {},
          "execution_count": 30
        }
      ]
    },
    {
      "cell_type": "code",
      "metadata": {
        "id": "vdGBeHVCXbbO",
        "outputId": "e2a795aa-1ab7-44cf-9081-e55a76484f37",
        "colab": {
          "base_uri": "https://localhost:8080/"
        }
      },
      "source": [
        "max(num)"
      ],
      "execution_count": 31,
      "outputs": [
        {
          "output_type": "execute_result",
          "data": {
            "text/plain": [
              "9"
            ]
          },
          "metadata": {},
          "execution_count": 31
        }
      ]
    },
    {
      "cell_type": "markdown",
      "metadata": {
        "id": "NZqa1C3KXbbP"
      },
      "source": [
        "*Lists* can be concatenated by adding, '+' them. The resultant list will contain all the elements of the lists that were added. The resultant list will not be a nested list."
      ]
    },
    {
      "cell_type": "code",
      "metadata": {
        "id": "M0j9o6_4XbbP",
        "outputId": "34cec302-341a-42ed-b234-066dc62cdd0f",
        "colab": {
          "base_uri": "https://localhost:8080/"
        }
      },
      "source": [
        "[1,2,3] + [5,4,7]"
      ],
      "execution_count": 50,
      "outputs": [
        {
          "output_type": "execute_result",
          "data": {
            "text/plain": [
              "[1, 2, 3, 5, 4, 7]"
            ]
          },
          "metadata": {},
          "execution_count": 50
        }
      ]
    },
    {
      "cell_type": "markdown",
      "metadata": {
        "id": "q9ETRq5_XbbP"
      },
      "source": [
        "There might arise a requirement where you might need to check if a particular element is there in a predefined list. Consider the below list."
      ]
    },
    {
      "cell_type": "code",
      "metadata": {
        "id": "bzfJznO4XbbP"
      },
      "source": [
        "names = ['Earth','Air','Fire','Water']"
      ],
      "execution_count": null,
      "outputs": []
    },
    {
      "cell_type": "code",
      "metadata": {
        "id": "jcdHvQaGXbbP",
        "outputId": "fcb857b7-4be7-4cf5-c3c2-cacfcd7d48e7"
      },
      "source": [
        "'Fire' in names"
      ],
      "execution_count": null,
      "outputs": [
        {
          "output_type": "execute_result",
          "data": {
            "text/plain": [
              "True"
            ]
          },
          "metadata": {
            "tags": []
          },
          "execution_count": 25
        }
      ]
    },
    {
      "cell_type": "code",
      "metadata": {
        "id": "vbyCnPh-XbbP",
        "outputId": "f7fc9a94-b86e-4de7-d1ee-3200f32e60b8"
      },
      "source": [
        "'Smith' in names"
      ],
      "execution_count": null,
      "outputs": [
        {
          "output_type": "execute_result",
          "data": {
            "text/plain": [
              "False"
            ]
          },
          "metadata": {
            "tags": []
          },
          "execution_count": 26
        }
      ]
    },
    {
      "cell_type": "markdown",
      "metadata": {
        "id": "uwmMHlbHXbbQ"
      },
      "source": [
        "## Append "
      ]
    },
    {
      "cell_type": "code",
      "metadata": {
        "id": "CAHjMCIYXbbQ"
      },
      "source": [
        "lst = [1,1,4,8,7]"
      ],
      "execution_count": 51,
      "outputs": []
    },
    {
      "cell_type": "code",
      "metadata": {
        "id": "5pe4GA66XbbQ",
        "outputId": "b204c411-16d5-49a4-9142-a5bc1e0281b8",
        "colab": {
          "base_uri": "https://localhost:8080/"
        }
      },
      "source": [
        "\n",
        "lst.append(1)\n",
        "print(lst)"
      ],
      "execution_count": 52,
      "outputs": [
        {
          "output_type": "stream",
          "name": "stdout",
          "text": [
            "[1, 1, 4, 8, 7, 1]\n"
          ]
        }
      ]
    },
    {
      "cell_type": "code",
      "metadata": {
        "id": "hWn3Ebk1XbbQ",
        "outputId": "f35d5d3f-c51d-4b44-c7e1-a18f1315ef86",
        "colab": {
          "base_uri": "https://localhost:8080/"
        }
      },
      "source": [
        "lst.count(1)"
      ],
      "execution_count": 53,
      "outputs": [
        {
          "output_type": "execute_result",
          "data": {
            "text/plain": [
              "3"
            ]
          },
          "metadata": {},
          "execution_count": 53
        }
      ]
    },
    {
      "cell_type": "markdown",
      "metadata": {
        "id": "63gSPDl9XbbQ"
      },
      "source": [
        "append( ) function can also be used to add a entire list at the end. Observe that the resultant list becomes a nested list."
      ]
    },
    {
      "cell_type": "code",
      "metadata": {
        "id": "tKr3uYXYXbbQ"
      },
      "source": [
        "lst1 = [5,4,2,8]"
      ],
      "execution_count": 54,
      "outputs": []
    },
    {
      "cell_type": "code",
      "metadata": {
        "id": "V5zJvXMGXbbR",
        "outputId": "18e266fc-cfc6-49dd-8a52-eab303cd017c",
        "colab": {
          "base_uri": "https://localhost:8080/"
        }
      },
      "source": [
        "lst.append(lst1)\n",
        "print(lst)"
      ],
      "execution_count": 55,
      "outputs": [
        {
          "output_type": "stream",
          "name": "stdout",
          "text": [
            "[1, 1, 4, 8, 7, 1, [5, 4, 2, 8]]\n"
          ]
        }
      ]
    },
    {
      "cell_type": "markdown",
      "metadata": {
        "id": "HAPt84CCXbbR"
      },
      "source": [
        "But if nested list is not what is desired then extend( ) function can be used."
      ]
    },
    {
      "cell_type": "code",
      "metadata": {
        "id": "YEQUx6vzXbbR",
        "outputId": "6aa40aa6-89bb-4cb9-9dd1-8a38326d59c5",
        "colab": {
          "base_uri": "https://localhost:8080/"
        }
      },
      "source": [
        "lst.extend(lst1)\n",
        "print(lst)"
      ],
      "execution_count": 56,
      "outputs": [
        {
          "output_type": "stream",
          "name": "stdout",
          "text": [
            "[1, 1, 4, 8, 7, 1, [5, 4, 2, 8], 5, 4, 2, 8]\n"
          ]
        }
      ]
    },
    {
      "cell_type": "code",
      "metadata": {
        "id": "XIrfdwyUXbbR",
        "outputId": "25a827dd-fb26-4fec-9bbc-8b8297b6c95d",
        "colab": {
          "base_uri": "https://localhost:8080/"
        }
      },
      "source": [
        "lst[6].index(2)"
      ],
      "execution_count": 66,
      "outputs": [
        {
          "output_type": "execute_result",
          "data": {
            "text/plain": [
              "2"
            ]
          },
          "metadata": {},
          "execution_count": 66
        }
      ]
    },
    {
      "cell_type": "markdown",
      "metadata": {
        "id": "Db94LtOoXbbR"
      },
      "source": [
        "insert(x,y) is used to insert a element y at a specified index value x. append( ) function made it only possible to insert at the end."
      ]
    },
    {
      "cell_type": "code",
      "metadata": {
        "id": "XkGvj3CeXbbR",
        "outputId": "89199837-3491-4d36-9436-584e15367e61",
        "colab": {
          "base_uri": "https://localhost:8080/"
        }
      },
      "source": [
        "lst.insert(5, 'name')\n",
        "print(lst)"
      ],
      "execution_count": 67,
      "outputs": [
        {
          "output_type": "stream",
          "name": "stdout",
          "text": [
            "[1, 1, 4, 8, 7, 'name', 1, [5, 4, 2, 8], 5, 4, 2, 8]\n"
          ]
        }
      ]
    },
    {
      "cell_type": "markdown",
      "metadata": {
        "id": "hM-xpnAxXbbR"
      },
      "source": [
        "insert(x,y) inserts but does not replace element. If you want to replace the element with another element you simply assign the value to that particular index."
      ]
    },
    {
      "cell_type": "code",
      "metadata": {
        "id": "kIZSKyfUXbbR",
        "outputId": "55169f95-5d22-447b-b303-860bc07096f1",
        "colab": {
          "base_uri": "https://localhost:8080/"
        }
      },
      "source": [
        "lst[5] = 'Python'\n",
        "print(lst)"
      ],
      "execution_count": 68,
      "outputs": [
        {
          "output_type": "stream",
          "name": "stdout",
          "text": [
            "[1, 1, 4, 8, 7, 'Python', 1, [5, 4, 2, 8], 5, 4, 2, 8]\n"
          ]
        }
      ]
    },
    {
      "cell_type": "markdown",
      "metadata": {
        "id": "6oX-aroFXbbS"
      },
      "source": [
        "pop( ) function return the last element in the list. This is similar to the operation of a stack. Hence it wouldn't be wrong to tell that lists can be used as a stack."
      ]
    },
    {
      "cell_type": "code",
      "metadata": {
        "id": "oExBa8m_XbbS",
        "outputId": "8f7707e5-1e0d-43df-e2f0-a380897affe3"
      },
      "source": [
        "lst.pop()"
      ],
      "execution_count": null,
      "outputs": [
        {
          "output_type": "execute_result",
          "data": {
            "text/plain": [
              "8"
            ]
          },
          "metadata": {
            "tags": []
          },
          "execution_count": 41
        }
      ]
    },
    {
      "cell_type": "markdown",
      "metadata": {
        "id": "riU9IMXxXbbS"
      },
      "source": [
        "Index value can be specified to pop a ceratin element corresponding to that index value."
      ]
    },
    {
      "cell_type": "code",
      "metadata": {
        "id": "WMzgei0DXbbS",
        "outputId": "57208f3c-d265-44df-bce4-11c18ad6cce4"
      },
      "source": [
        "lst.pop(0)"
      ],
      "execution_count": null,
      "outputs": [
        {
          "output_type": "execute_result",
          "data": {
            "text/plain": [
              "1"
            ]
          },
          "metadata": {
            "tags": []
          },
          "execution_count": 42
        }
      ]
    },
    {
      "cell_type": "code",
      "metadata": {
        "id": "KK70FH1YXbbS",
        "outputId": "1d6283e6-0045-4fdf-fc6b-a5914cb5d3b8"
      },
      "source": [
        "print(lst)"
      ],
      "execution_count": null,
      "outputs": [
        {
          "output_type": "stream",
          "text": [
            "[1, 4, 8, 7, 'Python', 1, 1, [5, 4, 2, 8], 5, 4, 2]\n"
          ],
          "name": "stdout"
        }
      ]
    },
    {
      "cell_type": "markdown",
      "metadata": {
        "id": "3tfUGdBDXbbS"
      },
      "source": [
        "pop( ) is used to remove element based on it's index value which can be assigned to a variable. One can also remove element by specifying the element itself using the remove( ) function."
      ]
    },
    {
      "cell_type": "code",
      "metadata": {
        "id": "P-qm1ogHXbbS",
        "outputId": "c3a1acd5-6ee6-41b8-d08a-a6319b81087d"
      },
      "source": [
        "lst.remove('Python')\n",
        "print(lst)"
      ],
      "execution_count": null,
      "outputs": [
        {
          "output_type": "stream",
          "text": [
            "[1, 4, 8, 7, 1, 1, [5, 4, 2, 8], 5, 4, 2]\n"
          ],
          "name": "stdout"
        }
      ]
    },
    {
      "cell_type": "code",
      "metadata": {
        "id": "W6hSjs8OXbbT",
        "outputId": "a7d4a42d-5f8d-4f56-8e43-6e338ac515f9"
      },
      "source": [
        "del(lst[1])\n",
        "print(lst)"
      ],
      "execution_count": null,
      "outputs": [
        {
          "output_type": "stream",
          "text": [
            "[1, 8, 7, 1, 1, [5, 4, 2, 8], 5, 4, 2]\n"
          ],
          "name": "stdout"
        }
      ]
    },
    {
      "cell_type": "markdown",
      "metadata": {
        "id": "vnoTDxb_XbbT"
      },
      "source": [
        "The entire elements present in the list can be reversed by using the reverse() function."
      ]
    },
    {
      "cell_type": "code",
      "metadata": {
        "id": "2Wmie0DVXbbT",
        "outputId": "e032ced6-350b-4502-a0c2-9e30270c509e"
      },
      "source": [
        "lst.reverse()\n",
        "print(lst)"
      ],
      "execution_count": null,
      "outputs": [
        {
          "output_type": "stream",
          "text": [
            "[2, 4, 5, [5, 4, 2, 8], 1, 1, 7, 8, 1]\n"
          ],
          "name": "stdout"
        }
      ]
    },
    {
      "cell_type": "markdown",
      "metadata": {
        "id": "aQxeMf5pXbbT"
      },
      "source": [
        "Note that the nested list [5,4,2,8] is treated as a single element of the parent list lst. Thus the elements inside the nested list is not reversed.\n",
        "\n",
        "Python offers built in operation sort( ) to arrange the elements in ascending order."
      ]
    },
    {
      "cell_type": "markdown",
      "metadata": {
        "id": "YJWsxayjXbbT"
      },
      "source": [
        "## Build In Function\n"
      ]
    },
    {
      "cell_type": "code",
      "metadata": {
        "id": "Ffla5_TZXbbT"
      },
      "source": [
        "set1 = set([1,2,3])\n",
        "set2 = set([2,3,4,5])"
      ],
      "execution_count": null,
      "outputs": []
    },
    {
      "cell_type": "code",
      "metadata": {
        "id": "aF3JvVsYXbbT",
        "outputId": "3519de27-265d-4427-a39b-ed34c5574a07"
      },
      "source": [
        "# union( ) function returns a set which contains all the elements of both the sets without repition.\n",
        "\n",
        "set1.union(set2)"
      ],
      "execution_count": null,
      "outputs": [
        {
          "output_type": "execute_result",
          "data": {
            "text/plain": [
              "{1, 2, 3, 4, 5}"
            ]
          },
          "metadata": {
            "tags": []
          },
          "execution_count": 53
        }
      ]
    },
    {
      "cell_type": "code",
      "metadata": {
        "id": "rYYUQVS1XbbU",
        "outputId": "a2320ab8-5c8a-4f02-9eac-d45dcfa7e6ae"
      },
      "source": [
        "set1.add(0)\n",
        "set1"
      ],
      "execution_count": null,
      "outputs": [
        {
          "output_type": "execute_result",
          "data": {
            "text/plain": [
              "{0, 1, 2, 3}"
            ]
          },
          "metadata": {
            "tags": []
          },
          "execution_count": 54
        }
      ]
    },
    {
      "cell_type": "code",
      "metadata": {
        "id": "eOz9cemeXbbU",
        "outputId": "addd3dda-3ede-4a50-bf19-5425d5402bf1"
      },
      "source": [
        "set1.intersection(set2)"
      ],
      "execution_count": null,
      "outputs": [
        {
          "output_type": "execute_result",
          "data": {
            "text/plain": [
              "{2, 3}"
            ]
          },
          "metadata": {
            "tags": []
          },
          "execution_count": 55
        }
      ]
    },
    {
      "cell_type": "code",
      "metadata": {
        "id": "kW-QudEjXbbU",
        "outputId": "79822a8b-2cb2-4fce-9445-86fd9917905f"
      },
      "source": [
        "set1.difference(set2)"
      ],
      "execution_count": null,
      "outputs": [
        {
          "output_type": "execute_result",
          "data": {
            "text/plain": [
              "{0, 1}"
            ]
          },
          "metadata": {
            "tags": []
          },
          "execution_count": 56
        }
      ]
    },
    {
      "cell_type": "code",
      "metadata": {
        "id": "G0-JLUmfXbbU",
        "outputId": "c8c5fcca-5cd6-469d-de09-0c1f15b5d42f"
      },
      "source": [
        "set1.issubset(set2)"
      ],
      "execution_count": null,
      "outputs": [
        {
          "output_type": "execute_result",
          "data": {
            "text/plain": [
              "False"
            ]
          },
          "metadata": {
            "tags": []
          },
          "execution_count": 57
        }
      ]
    },
    {
      "cell_type": "code",
      "metadata": {
        "id": "55PHfz5kXbbU"
      },
      "source": [
        ""
      ],
      "execution_count": null,
      "outputs": []
    }
  ]
}